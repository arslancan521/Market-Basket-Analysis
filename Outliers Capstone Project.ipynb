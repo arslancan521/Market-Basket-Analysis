{
 "cells": [
  {
   "cell_type": "code",
   "execution_count": null,
   "id": "c036b1c7",
   "metadata": {},
   "outputs": [],
   "source": [
    "import pandas as pd\n",
    "import numpy as np\n",
    "import seaborn as sns\n",
    "import matplotlib.pyplot as plt\n",
    "pd.set_option('display.max_columns', None)\n",
    "pd.set_option('display.max_rows', None)\n",
    "pd.set_option('display.float_format', lambda x: '%.5f' % x)\n",
    "import warnings\n",
    "warnings.simplefilter(action=\"ignore\")"
   ]
  },
  {
   "cell_type": "markdown",
   "id": "4262170f",
   "metadata": {},
   "source": [
    "### IMPORTING & MERGING DATA"
   ]
  },
  {
   "cell_type": "code",
   "execution_count": null,
   "id": "c05624ac",
   "metadata": {},
   "outputs": [],
   "source": [
    "# Importing data 1\n",
    "data1 = pd.read_excel(\"online_retail_II.xlsx\", sheet_name = \"Year 2009-2010\")"
   ]
  },
  {
   "cell_type": "code",
   "execution_count": null,
   "id": "7e6485a6",
   "metadata": {},
   "outputs": [],
   "source": [
    "data1.head()"
   ]
  },
  {
   "cell_type": "code",
   "execution_count": null,
   "id": "34089d5e",
   "metadata": {},
   "outputs": [],
   "source": [
    "# Importing data 2\n",
    "data2 = pd.read_excel(\"online_retail_II.xlsx\", sheet_name = \"Year 2010-2011\")"
   ]
  },
  {
   "cell_type": "code",
   "execution_count": null,
   "id": "10b24b78",
   "metadata": {},
   "outputs": [],
   "source": [
    "data2.head()"
   ]
  },
  {
   "cell_type": "code",
   "execution_count": null,
   "id": "b1c0b86c",
   "metadata": {},
   "outputs": [],
   "source": [
    "# Merging the datasets into one dataset\n",
    "data = data1.append(data2).reset_index(drop=True)"
   ]
  },
  {
   "cell_type": "code",
   "execution_count": null,
   "id": "e7738f45",
   "metadata": {},
   "outputs": [],
   "source": [
    "data.head()"
   ]
  },
  {
   "cell_type": "code",
   "execution_count": null,
   "id": "d2b9ca64",
   "metadata": {},
   "outputs": [],
   "source": [
    "data.tail()"
   ]
  },
  {
   "cell_type": "code",
   "execution_count": null,
   "id": "5b0ce5da",
   "metadata": {},
   "outputs": [],
   "source": [
    "data[data[\"Invoice\"].str.contains(\"C\", na=False)].to_excel(\"returned_orders.xlsx\")"
   ]
  },
  {
   "cell_type": "markdown",
   "id": "2b1877c5",
   "metadata": {},
   "source": [
    "### EXPLORATORY DATA ANALYSIS"
   ]
  },
  {
   "cell_type": "code",
   "execution_count": null,
   "id": "4491c1a1",
   "metadata": {},
   "outputs": [],
   "source": [
    "data.isnull().sum()"
   ]
  },
  {
   "cell_type": "code",
   "execution_count": null,
   "id": "b61de0e9",
   "metadata": {},
   "outputs": [],
   "source": [
    "#Analyzing the missing Customer ID values\n",
    "data[data[\"Customer ID\"].isnull()].head()"
   ]
  },
  {
   "cell_type": "code",
   "execution_count": null,
   "id": "ee3df43a",
   "metadata": {},
   "outputs": [],
   "source": [
    "#Country distribution of missing values\n",
    "data[data[\"Customer ID\"].isnull()][\"Country\"].value_counts()"
   ]
  },
  {
   "cell_type": "code",
   "execution_count": null,
   "id": "8d64ece7",
   "metadata": {},
   "outputs": [],
   "source": [
    "#Is the distribution of missing value familiar to distribution of whole dataset ? \n",
    "data[data[\"Customer ID\"].isnull()][\"Country\"].value_counts(normalize = True)"
   ]
  },
  {
   "cell_type": "code",
   "execution_count": null,
   "id": "e1320d9e",
   "metadata": {},
   "outputs": [],
   "source": [
    "data.Country.value_counts(normalize=True)"
   ]
  },
  {
   "cell_type": "code",
   "execution_count": null,
   "id": "665359fc",
   "metadata": {},
   "outputs": [],
   "source": [
    "data.describe().T"
   ]
  },
  {
   "cell_type": "code",
   "execution_count": null,
   "id": "f7362830",
   "metadata": {},
   "outputs": [],
   "source": [
    "# Missing Values\n",
    "data.dropna(axis=0 , inplace=True)"
   ]
  },
  {
   "cell_type": "code",
   "execution_count": null,
   "id": "67208a76",
   "metadata": {},
   "outputs": [],
   "source": [
    "# Products that may be returned \n",
    "data[data[\"Invoice\"].str.contains(\"C\", na=False)].head()"
   ]
  },
  {
   "cell_type": "code",
   "execution_count": null,
   "id": "a5c654b9",
   "metadata": {},
   "outputs": [],
   "source": [
    "#Distribution of the returned products by Country\n",
    "data[data[\"Invoice\"].str.contains(\"C\", na=False)][\"Country\"].value_counts(normalize=True).head()"
   ]
  },
  {
   "cell_type": "code",
   "execution_count": null,
   "id": "dc19adae",
   "metadata": {},
   "outputs": [],
   "source": [
    "# Drop the returned products' rows\n",
    "data = data[~data[\"Invoice\"].str.contains(\"C\", na=False)]"
   ]
  },
  {
   "cell_type": "code",
   "execution_count": null,
   "id": "7d0e7742",
   "metadata": {},
   "outputs": [],
   "source": [
    "#Products are sold withoud payment\n",
    "data[(data[\"Quantity\"] > 0) & (data[\"Price\"] == 0)].head()\n"
   ]
  },
  {
   "cell_type": "code",
   "execution_count": null,
   "id": "c16323a3",
   "metadata": {},
   "outputs": [],
   "source": [
    "# Drop the products that are not sold as promotion withoud payment\n",
    "data = data[~((data[\"Quantity\"] < 0) & (data[\"Price\"] == 0))]"
   ]
  },
  {
   "cell_type": "code",
   "execution_count": null,
   "id": "311108d0",
   "metadata": {},
   "outputs": [],
   "source": [
    "# Rearange the dataset as positive Price Value\n",
    "data = data[data[\"Price\"] >= 0]"
   ]
  },
  {
   "cell_type": "code",
   "execution_count": null,
   "id": "796d29b5",
   "metadata": {},
   "outputs": [],
   "source": [
    "#Drop the unspecified countries\n",
    "Unspecified_country = data.loc[data[\"Country\"] == \"Unspecified\"]\n",
    "data.drop(Unspecified_country.index, inplace = True)"
   ]
  },
  {
   "cell_type": "code",
   "execution_count": null,
   "id": "127cc6fd",
   "metadata": {},
   "outputs": [],
   "source": [
    "#Check the final data out\n",
    "print(\"*************************************************************************\")\n",
    "print(\"The Final Shape of The Data\")\n",
    "print(data.shape)\n",
    "print(\"*************************************************************************\")\n",
    "print(\"The Final Descriptive Statistics of The Data\")\n",
    "print(data.describe().T)\n",
    "print(\"*************************************************************************\")\n",
    "print(\"The Final Check of The Null Values\")\n",
    "print(data.isnull().sum())\n",
    "print(\"*************************************************************************\")\n",
    "print(data.dtypes)"
   ]
  },
  {
   "cell_type": "code",
   "execution_count": null,
   "id": "cdb87664",
   "metadata": {},
   "outputs": [],
   "source": [
    "#Checking the success of the drop processes\n",
    "print(data[data[\"Price\"] < 0])\n",
    "print(\"*************************************************************************\")\n",
    "print(data[data[\"Quantity\"] <= 0])\n",
    "print(\"*************************************************************************\")"
   ]
  },
  {
   "cell_type": "code",
   "execution_count": null,
   "id": "acd2c538",
   "metadata": {},
   "outputs": [],
   "source": [
    "#Examining the categorical, numeric columns\n",
    "def grab_col_names(dataframe, cat_th=10, car_th=20):\n",
    "    \"\"\"\n",
    "\n",
    "    Veri setindeki kategorik, numerik ve kategorik fakat kardinal değişkenlerin isimlerini verir.\n",
    "    Not: Kategorik değişkenlerin içerisine numerik görünümlü kategorik değişkenler de dahildir.\n",
    "\n",
    "    Parameters\n",
    "    ------\n",
    "        dataframe: dataframe\n",
    "                Değişken isimleri alınmak istenilen dataframe\n",
    "        cat_th: int, optional\n",
    "                numerik fakat kategorik olan değişkenler için sınıf eşik değeri\n",
    "        car_th: int, optional\n",
    "                kategorik fakat kardinal değişkenler için sınıf eşik değeri\n",
    "\n",
    "    Returns\n",
    "    ------\n",
    "        cat_cols: list\n",
    "                Kategorik değişken listesi\n",
    "        num_cols: list\n",
    "                Numerik değişken listesi\n",
    "        cat_but_car: list\n",
    "                Kategorik görünümlü kardinal değişken listesi\n",
    "\n",
    "    Examples\n",
    "    ------\n",
    "        import seaborn as sns\n",
    "        df = sns.load_dataset(\"iris\")\n",
    "        print(grab_col_names(df))\n",
    "\n",
    "\n",
    "    Notes\n",
    "    ------\n",
    "        cat_cols + num_cols + cat_but_car = toplam değişken sayısı\n",
    "        num_but_cat cat_cols'un içerisinde.\n",
    "\n",
    "    \"\"\"\n",
    "    # cat_cols, cat_but_car\n",
    "    cat_cols = [col for col in dataframe.columns if dataframe[col].dtypes == \"O\"]\n",
    "    num_but_cat = [col for col in dataframe.columns if dataframe[col].nunique() < cat_th and dataframe[col].dtypes != \"O\"] # 0 ,1\n",
    "    cat_but_car = [col for col in dataframe.columns if dataframe[col].nunique() > car_th and dataframe[col].dtypes == \"O\"] # name, master_id\n",
    "    cat_cols = cat_cols + num_but_cat\n",
    "    cat_cols = [col for col in cat_cols if col not in cat_but_car]\n",
    "\n",
    "    # num_cols\n",
    "    num_cols = [col for col in dataframe.columns if dataframe[col].dtypes != \"O\"]\n",
    "    num_cols = [col for col in num_cols if col not in num_but_cat]\n",
    "\n",
    "    print(f\"Observations: {dataframe.shape[0]}\")\n",
    "    print(f\"Variables: {dataframe.shape[1]}\")\n",
    "    print(f'cat_cols: {len(cat_cols)}')\n",
    "    print(f'num_cols: {len(num_cols)}')\n",
    "    print(f'cat_but_car: {len(cat_but_car)}')\n",
    "    print(f'num_but_cat: {len(num_but_cat)}')\n",
    "\n",
    "    return cat_cols, num_cols, cat_but_car\n"
   ]
  },
  {
   "cell_type": "code",
   "execution_count": null,
   "id": "b73f601a",
   "metadata": {},
   "outputs": [],
   "source": [
    "cat_cols, num_cols, cat_but_car = grab_col_names(data)"
   ]
  },
  {
   "cell_type": "code",
   "execution_count": null,
   "id": "b8cb8c54",
   "metadata": {},
   "outputs": [],
   "source": [
    "for col in cat_but_car:\n",
    "    print(data[col].value_counts(normalize=True).head())"
   ]
  },
  {
   "cell_type": "code",
   "execution_count": null,
   "id": "c2030f57",
   "metadata": {},
   "outputs": [],
   "source": [
    "#Analysis of the categorical variable\n",
    "def cat_summary(dataframe, col_name, plot=True):\n",
    "    print(pd.DataFrame({col_name: dataframe[col_name].value_counts(),\n",
    "                        \"Ratio\": 100 * dataframe[col_name].value_counts() / len(dataframe)}))\n",
    "    print(\"##########################################\")\n",
    "    if plot:\n",
    "        sns.countplot(x=dataframe[col_name], data=dataframe)\n",
    "        plt.show()\n",
    "for col in cat_but_car:\n",
    "    print(cat_summary(data, col,plot=False))"
   ]
  },
  {
   "cell_type": "code",
   "execution_count": null,
   "id": "3c0df736",
   "metadata": {},
   "outputs": [],
   "source": [
    "#Analysis of the Numeric Variables\n",
    "def num_summary(dataframe, numerical_col, plot=True):\n",
    "    quantiles = [0.05, 0.10, 0.20, 0.30, 0.40, 0.50, 0.60, 0.70, 0.80, 0.90, 0.95, 0.99]\n",
    "    print(dataframe[numerical_col].describe(quantiles).T)\n",
    "\n",
    "    if plot:\n",
    "        dataframe[numerical_col].hist(bins=20)\n",
    "        plt.xlabel(numerical_col)\n",
    "        plt.title(numerical_col)\n",
    "        plt.show()\n",
    "\n",
    "for col in num_cols:\n",
    "    num_summary(data, col, plot=False)"
   ]
  },
  {
   "cell_type": "markdown",
   "id": "ffcc1541",
   "metadata": {},
   "source": [
    "### OUTLIERS ANALYSIS"
   ]
  },
  {
   "cell_type": "code",
   "execution_count": null,
   "id": "33ec695c",
   "metadata": {},
   "outputs": [],
   "source": [
    "data.describe().T"
   ]
  },
  {
   "cell_type": "code",
   "execution_count": null,
   "id": "768f9705",
   "metadata": {},
   "outputs": [],
   "source": [
    "#IQR * 1.5\n",
    "IQR = (data.quantile(0.75) - data.quantile(0.25)) * 1.5\n",
    "IQR"
   ]
  },
  {
   "cell_type": "code",
   "execution_count": null,
   "id": "1250cb6b",
   "metadata": {},
   "outputs": [],
   "source": [
    "IQR.Price"
   ]
  },
  {
   "cell_type": "code",
   "execution_count": null,
   "id": "09acb843",
   "metadata": {},
   "outputs": [],
   "source": [
    "IQR.Quantity"
   ]
  },
  {
   "cell_type": "code",
   "execution_count": null,
   "id": "0bf0ff66",
   "metadata": {},
   "outputs": [],
   "source": [
    "data[(data[\"Price\"] < (data[\"Price\"].quantile(0.25) - IQR.Price))].head()"
   ]
  },
  {
   "cell_type": "code",
   "execution_count": null,
   "id": "c3bf85f4",
   "metadata": {},
   "outputs": [],
   "source": [
    "Price_Positive_Outliers = data[(data[\"Price\"] > (data[\"Price\"].quantile(0.75) + IQR.Price))]\n",
    "Price_Positive_Outliers.to_excel(\"Price_Positive_Outliers.xlsx\")"
   ]
  },
  {
   "cell_type": "code",
   "execution_count": null,
   "id": "d6d84dc4",
   "metadata": {},
   "outputs": [],
   "source": [
    "data = data[~(data[\"Price\"] > (data[\"Price\"].quantile(0.75) + IQR.Price))]"
   ]
  },
  {
   "cell_type": "code",
   "execution_count": null,
   "id": "e31aac90",
   "metadata": {},
   "outputs": [],
   "source": [
    "Quantity_Positive_Outliers = data[(data[\"Quantity\"] > (data[\"Quantity\"].quantile(0.75) + IQR.Quantity))]\n",
    "Quantity_Positive_Outliers.to_excel(\"Quantity_Positive_Outliers.xlsx\")"
   ]
  },
  {
   "cell_type": "code",
   "execution_count": null,
   "id": "0883ca69",
   "metadata": {},
   "outputs": [],
   "source": [
    "data = data[~(data[\"Quantity\"] > (data[\"Quantity\"].quantile(0.75) + IQR.Quantity))]"
   ]
  },
  {
   "cell_type": "code",
   "execution_count": null,
   "id": "961c848e",
   "metadata": {},
   "outputs": [],
   "source": [
    "data = data[~(data[\"Quantity\"] < (data[\"Quantity\"].quantile(0.25) - IQR.Quantity))]"
   ]
  },
  {
   "cell_type": "code",
   "execution_count": null,
   "id": "0fe185c9",
   "metadata": {},
   "outputs": [],
   "source": [
    "for i in [\"Price\", \"Quantity\"]:\n",
    "    print(data[i].max(), data[i].min())"
   ]
  },
  {
   "cell_type": "code",
   "execution_count": null,
   "id": "4007414a",
   "metadata": {},
   "outputs": [],
   "source": [
    "data.Price.hist()"
   ]
  },
  {
   "cell_type": "code",
   "execution_count": null,
   "id": "fa0019b8",
   "metadata": {
    "scrolled": true
   },
   "outputs": [],
   "source": [
    "data.Quantity.hist()"
   ]
  },
  {
   "cell_type": "code",
   "execution_count": null,
   "id": "88b27ec5",
   "metadata": {},
   "outputs": [],
   "source": [
    "Price_Positive_Outliers[\"Price\"].hist()"
   ]
  },
  {
   "cell_type": "code",
   "execution_count": null,
   "id": "41878b07",
   "metadata": {},
   "outputs": [],
   "source": [
    "Quantity_Positive_Outliers[\"Quantity\"].hist()"
   ]
  },
  {
   "cell_type": "code",
   "execution_count": null,
   "id": "9bafde2b",
   "metadata": {},
   "outputs": [],
   "source": [
    "Price_Positive_Outliers.shape"
   ]
  },
  {
   "cell_type": "code",
   "execution_count": null,
   "id": "a62ace7a",
   "metadata": {},
   "outputs": [],
   "source": [
    "Quantity_Positive_Outliers.shape"
   ]
  },
  {
   "cell_type": "code",
   "execution_count": null,
   "id": "363d682c",
   "metadata": {},
   "outputs": [],
   "source": [
    "data.shape"
   ]
  },
  {
   "cell_type": "code",
   "execution_count": null,
   "id": "c3e0d49c",
   "metadata": {},
   "outputs": [],
   "source": [
    "#The product as a transportation service\n",
    "Postage = data[data[\"Description\"] == \"POSTAGE\"]\n",
    "Postage.to_excel(\"Postage.xlsx\")"
   ]
  },
  {
   "cell_type": "code",
   "execution_count": null,
   "id": "c304b9ce",
   "metadata": {},
   "outputs": [],
   "source": [
    "Postage.shape"
   ]
  },
  {
   "cell_type": "code",
   "execution_count": null,
   "id": "e272d6f1",
   "metadata": {},
   "outputs": [],
   "source": [
    "Postage[\"Country\"].value_counts(normalize=True)"
   ]
  },
  {
   "cell_type": "code",
   "execution_count": null,
   "id": "e9011ecc",
   "metadata": {},
   "outputs": [],
   "source": [
    "data.drop(Postage.index, inplace=True)"
   ]
  },
  {
   "cell_type": "code",
   "execution_count": null,
   "id": "d4cdc992",
   "metadata": {},
   "outputs": [],
   "source": [
    "data.shape"
   ]
  },
  {
   "cell_type": "markdown",
   "id": "6976f8d9",
   "metadata": {},
   "source": [
    "### Turn the Dataset into Useful for Analysis"
   ]
  },
  {
   "cell_type": "code",
   "execution_count": null,
   "id": "0248ec27",
   "metadata": {},
   "outputs": [],
   "source": [
    "#Adding a new column as Revenue\n",
    "data[\"Revenue\"] = data[\"Quantity\"] * data[\"Price\"]"
   ]
  },
  {
   "cell_type": "code",
   "execution_count": null,
   "id": "c962b244",
   "metadata": {},
   "outputs": [],
   "source": [
    "#Adding a new column as days of the week\n",
    "day_of_week = []\n",
    "for i in data[\"InvoiceDate\"]:\n",
    "    day_of_week.append(i.day_name())\n",
    "data[\"Day of Week\"] = day_of_week\n"
   ]
  },
  {
   "cell_type": "code",
   "execution_count": null,
   "id": "e2133098",
   "metadata": {},
   "outputs": [],
   "source": [
    "data.head()"
   ]
  },
  {
   "cell_type": "code",
   "execution_count": 75,
   "id": "b5d2d292",
   "metadata": {},
   "outputs": [
    {
     "data": {
      "image/png": "[encoded data removed]",
      "text/plain": [
       "<Figure size 360x360 with 1 Axes>"
      ]
     },
     "metadata": {
      "needs_background": "light"
     },
     "output_type": "display_data"
    },
    {
     "data": {
      "image/png": "[encoded data removed]",
      "text/plain": [
       "<Figure size 360x360 with 1 Axes>"
      ]
     },
     "metadata": {
      "needs_background": "light"
     },
     "output_type": "display_data"
    },
    {
     "data": {
      "image/png": "[encoded data removed]",
      "text/plain": [
       "<Figure size 360x360 with 1 Axes>"
      ]
     },
     "metadata": {
      "needs_background": "light"
     },
     "output_type": "display_data"
    },
    {
     "data": {
      "image/png": "[encoded data removed]",
      "text/plain": [
       "<Figure size 360x360 with 1 Axes>"
      ]
     },
     "metadata": {
      "needs_background": "light"
     },
     "output_type": "display_data"
    }
   ],
   "source": [
    "#Revenue Analysis by Countries\n",
    "countries = [\"United Kingdom\", \"France\", \"Germany\",\"EIRE\"]\n",
    "for c in countries:\n",
    "    sns.catplot(data = data[data[\"Country\"] == c] , x = \"Country\", y = \"Revenue\", kind = \"violin\")\n"
   ]
  },
  {
   "cell_type": "code",
   "execution_count": null,
   "id": "b088d0ca",
   "metadata": {},
   "outputs": [],
   "source": [
    "for c in countries:\n",
    "    sns.catplot(data = data[data[\"Country\"] == c] , x = \"Country\", y = \"Price\", kind = \"violin\")"
   ]
  },
  {
   "cell_type": "code",
   "execution_count": null,
   "id": "bd921d31",
   "metadata": {},
   "outputs": [],
   "source": [
    "for c in countries:\n",
    "    sns.catplot(data = data[data[\"Country\"] == c] , x = \"Country\", y = \"Quantity\", kind = \"violin\")"
   ]
  },
  {
   "cell_type": "markdown",
   "id": "5fddb52d",
   "metadata": {},
   "source": [
    "others_countries = Others.Country\n",
    "for i in others_countries:\n",
    "    print(sns.boxplot(data = Others[Others[\"Country\"] == i], x = \"Country\", y = \"Revenue\"))\n",
    "    plt.show()"
   ]
  },
  {
   "cell_type": "code",
   "execution_count": null,
   "id": "a636a9d8",
   "metadata": {},
   "outputs": [],
   "source": [
    "#Quantity Analysis by Countries\n",
    "data.groupby(\"Country\").agg({\"Quantity\" : \"sum\"}).sort_values(by=\"Quantity\", ascending=False).head(4)"
   ]
  },
  {
   "cell_type": "code",
   "execution_count": null,
   "id": "dec7bcc6",
   "metadata": {},
   "outputs": [],
   "source": [
    "data[(data[\"Description\"] == \"POSTAGE\") & (data[\"Country\"] == \"United Kingdom\")].nunique()"
   ]
  },
  {
   "cell_type": "markdown",
   "id": "77063313",
   "metadata": {},
   "source": [
    "others_countries = Others.Country\n",
    "for i in others_countries:\n",
    "    print(sns.boxplot(data = Others[Others[\"Country\"] == i], x = \"Country\", y = \"Quantity\"))\n",
    "    plt.show()"
   ]
  },
  {
   "cell_type": "markdown",
   "id": "6b9007ed",
   "metadata": {},
   "source": [
    "### Questions for Analysing Data "
   ]
  },
  {
   "cell_type": "code",
   "execution_count": null,
   "id": "36ea7e9e",
   "metadata": {},
   "outputs": [],
   "source": [
    "UK = data[data[\"Country\"] == \"United Kingdom\"]\n",
    "France = data[data[\"Country\"] == \"France\"]\n",
    "Germany = data[data[\"Country\"] == \"Germany\"]\n",
    "Ireland = data[data[\"Country\"] == \"EIRE\"]"
   ]
  },
  {
   "cell_type": "code",
   "execution_count": null,
   "id": "e70c506a",
   "metadata": {},
   "outputs": [],
   "source": [
    "data.shape"
   ]
  },
  {
   "cell_type": "code",
   "execution_count": null,
   "id": "abe1a4f6",
   "metadata": {},
   "outputs": [],
   "source": [
    "UK.to_excel(\"UK.xlsx\")\n",
    "France.to_excel(\"France.xlsx\")\n",
    "Germany.to_excel(\"Germany.xlsx\")\n",
    "Ireland.to_excel(\"Ireland.xlsx\")"
   ]
  },
  {
   "cell_type": "code",
   "execution_count": null,
   "id": "3e628864",
   "metadata": {},
   "outputs": [],
   "source": [
    "data.to_excel(\"clean_data.xlsx\")"
   ]
  },
  {
   "cell_type": "code",
   "execution_count": null,
   "id": "8cfe10aa",
   "metadata": {},
   "outputs": [],
   "source": [
    "#What are the total revenue, average revenue and its standard deviation by Invoice ? \n",
    "UK.groupby(\"Invoice\").agg({\"Revenue\" : [\"sum\", \"mean\", \"std\"]}).sort_values(by = (\"Revenue\", \"sum\"),ascending=False).head()"
   ]
  },
  {
   "cell_type": "code",
   "execution_count": null,
   "id": "c1b87dd3",
   "metadata": {},
   "outputs": [],
   "source": [
    "France.groupby([\"Invoice\"]).agg({\"Revenue\" : [\"sum\", \"mean\", \"std\"]}).sort_values(by = (\"Revenue\", \"sum\"),ascending=False).head()"
   ]
  },
  {
   "cell_type": "code",
   "execution_count": null,
   "id": "9228b8e3",
   "metadata": {},
   "outputs": [],
   "source": [
    "Germany.groupby([\"Invoice\"]).agg({\"Revenue\" : [\"sum\", \"mean\", \"std\"]}).sort_values(by = (\"Revenue\", \"sum\"),ascending=False).head()"
   ]
  },
  {
   "cell_type": "code",
   "execution_count": null,
   "id": "625c1537",
   "metadata": {},
   "outputs": [],
   "source": [
    "Ireland.groupby([\"Invoice\"]).agg({\"Revenue\" : [\"sum\", \"mean\", \"std\"]}).sort_values(by = (\"Revenue\", \"sum\"),ascending=False).head()"
   ]
  },
  {
   "cell_type": "code",
   "execution_count": null,
   "id": "982c8bd6",
   "metadata": {},
   "outputs": [],
   "source": [
    "#Visualizing the conclusion\n",
    "sns.catplot(data = UK.groupby(\"Invoice\").agg({\"Revenue\" : [\"sum\", \"mean\", \"std\"]}), kind = \"boxen\")"
   ]
  },
  {
   "cell_type": "code",
   "execution_count": null,
   "id": "ac1adf95",
   "metadata": {},
   "outputs": [],
   "source": [
    "#What are the purchases of products ? \n",
    "UK.groupby(\"StockCode\").agg({\"Invoice\" : \"count\"}).sort_values(by = \"Invoice\", ascending = False).head()"
   ]
  },
  {
   "cell_type": "code",
   "execution_count": null,
   "id": "9e8e01b3",
   "metadata": {},
   "outputs": [],
   "source": [
    "France.groupby(\"StockCode\").agg({\"Invoice\" : \"count\"}).sort_values(by = \"Invoice\", ascending = False).head()"
   ]
  },
  {
   "cell_type": "code",
   "execution_count": null,
   "id": "f2b9e064",
   "metadata": {},
   "outputs": [],
   "source": [
    "Germany.groupby(\"StockCode\").agg({\"Invoice\" : \"count\"}).sort_values(by = \"Invoice\", ascending = False).head()"
   ]
  },
  {
   "cell_type": "code",
   "execution_count": null,
   "id": "438c68b4",
   "metadata": {},
   "outputs": [],
   "source": [
    "Ireland.groupby(\"StockCode\").agg({\"Invoice\" : \"count\"}).sort_values(by = \"Invoice\", ascending = False).head()"
   ]
  },
  {
   "cell_type": "code",
   "execution_count": null,
   "id": "70e34d06",
   "metadata": {},
   "outputs": [],
   "source": [
    "#Visualizing the conclusion\n",
    "UK.groupby(\"StockCode\").agg({\"Invoice\" : \"count\"}).hist()"
   ]
  },
  {
   "cell_type": "code",
   "execution_count": null,
   "id": "02ffb868",
   "metadata": {},
   "outputs": [],
   "source": [
    "# What are the total and average number of products that exist in invoices ? \n",
    "UK.groupby(\"Invoice\").agg({\"Quantity\" : [\"sum\", \"mean\"]}).sort_values(by = (\"Quantity\",\"sum\"), ascending= False).head()"
   ]
  },
  {
   "cell_type": "code",
   "execution_count": null,
   "id": "16ca9b97",
   "metadata": {},
   "outputs": [],
   "source": [
    "France.groupby(\"Invoice\").agg({\"Quantity\" : [\"sum\", \"mean\"]}).sort_values(by = (\"Quantity\",\"sum\"), ascending= False).head()"
   ]
  },
  {
   "cell_type": "code",
   "execution_count": null,
   "id": "cfee636d",
   "metadata": {},
   "outputs": [],
   "source": [
    "Germany.groupby(\"Invoice\").agg({\"Quantity\" : [\"sum\", \"mean\"]}).sort_values(by = (\"Quantity\",\"sum\"), ascending= False).head()"
   ]
  },
  {
   "cell_type": "code",
   "execution_count": null,
   "id": "f188bc25",
   "metadata": {},
   "outputs": [],
   "source": [
    "Ireland.groupby(\"Invoice\").agg({\"Quantity\" : [\"sum\", \"mean\"]}).sort_values(by = (\"Quantity\",\"sum\"), ascending= False).head()"
   ]
  },
  {
   "cell_type": "code",
   "execution_count": null,
   "id": "9913e0aa",
   "metadata": {},
   "outputs": [],
   "source": [
    "sns.catplot(data = UK.groupby(\"Invoice\").agg({\"Quantity\" : [\"sum\", \"mean\"]}), kind = \"boxen\")"
   ]
  },
  {
   "cell_type": "code",
   "execution_count": null,
   "id": "f61e12e5",
   "metadata": {},
   "outputs": [],
   "source": [
    "# What is the total revenue by date ? \n",
    "UK.groupby(\"InvoiceDate\").agg({\"Revenue\" : \"sum\"}).sort_values(by=\"Revenue\", ascending = False).head()"
   ]
  },
  {
   "cell_type": "code",
   "execution_count": null,
   "id": "0ec908d8",
   "metadata": {},
   "outputs": [],
   "source": [
    "France.groupby(\"InvoiceDate\").agg({\"Revenue\" : \"sum\"}).sort_values(by=\"Revenue\", ascending = False).head()"
   ]
  },
  {
   "cell_type": "code",
   "execution_count": null,
   "id": "db24deab",
   "metadata": {},
   "outputs": [],
   "source": [
    "Germany.groupby(\"InvoiceDate\").agg({\"Revenue\" : \"sum\"}).sort_values(by=\"Revenue\", ascending = False).head()"
   ]
  },
  {
   "cell_type": "code",
   "execution_count": null,
   "id": "e292d3e3",
   "metadata": {},
   "outputs": [],
   "source": [
    "Ireland.groupby(\"InvoiceDate\").agg({\"Revenue\" : \"sum\"}).sort_values(by=\"Revenue\", ascending = False).head()"
   ]
  },
  {
   "cell_type": "code",
   "execution_count": null,
   "id": "e2a69ed7",
   "metadata": {},
   "outputs": [],
   "source": [
    "#Visualizing the results\n",
    "sns.catplot(data = UK.groupby(\"InvoiceDate\").agg({\"Revenue\" : \"sum\"}), kind = \"violin\")"
   ]
  },
  {
   "cell_type": "code",
   "execution_count": null,
   "id": "642fb574",
   "metadata": {},
   "outputs": [],
   "source": [
    "#What is the total number of invoice by date ? \n",
    "UK.groupby(\"InvoiceDate\").agg({\"Invoice\" : \"count\"}).sort_values(by=\"Invoice\", ascending = False).head()"
   ]
  },
  {
   "cell_type": "code",
   "execution_count": null,
   "id": "c6382857",
   "metadata": {},
   "outputs": [],
   "source": [
    "France.groupby(\"InvoiceDate\").agg({\"Invoice\" : \"count\"}).sort_values(by=\"Invoice\", ascending = False).head()"
   ]
  },
  {
   "cell_type": "code",
   "execution_count": null,
   "id": "38c1daa1",
   "metadata": {},
   "outputs": [],
   "source": [
    "Germany.groupby(\"InvoiceDate\").agg({\"Invoice\" : \"count\"}).sort_values(by=\"Invoice\", ascending = False).head()"
   ]
  },
  {
   "cell_type": "code",
   "execution_count": null,
   "id": "97b0a5bd",
   "metadata": {},
   "outputs": [],
   "source": [
    "Ireland.groupby(\"InvoiceDate\").agg({\"Invoice\" : \"count\"}).sort_values(by=\"Invoice\", ascending = False).head()"
   ]
  },
  {
   "cell_type": "code",
   "execution_count": null,
   "id": "44c86622",
   "metadata": {},
   "outputs": [],
   "source": [
    "#Visualizing the results\n",
    "sns.catplot(data = UK.groupby(\"InvoiceDate\").agg({\"Invoice\" : \"count\"}), kind = \"boxen\")"
   ]
  },
  {
   "cell_type": "code",
   "execution_count": null,
   "id": "45133709",
   "metadata": {},
   "outputs": [],
   "source": [
    "#What is the number of invoices by the days of the week ? \n",
    "UK.groupby(\"Day of Week\").agg({\"Invoice\" : \"count\"}).sort_values(by=\"Invoice\", ascending = False).head(7)"
   ]
  },
  {
   "cell_type": "code",
   "execution_count": null,
   "id": "87e962b6",
   "metadata": {},
   "outputs": [],
   "source": [
    "France.groupby(\"Day of Week\").agg({\"Invoice\" : \"count\"}).sort_values(by=\"Invoice\", ascending = False).head(7)"
   ]
  },
  {
   "cell_type": "code",
   "execution_count": null,
   "id": "9a1b75cd",
   "metadata": {},
   "outputs": [],
   "source": [
    "Germany.groupby(\"Day of Week\").agg({\"Invoice\" : \"count\"}).sort_values(by=\"Invoice\", ascending = False).head(7)"
   ]
  },
  {
   "cell_type": "code",
   "execution_count": null,
   "id": "b7d68320",
   "metadata": {},
   "outputs": [],
   "source": [
    "Ireland.groupby(\"Day of Week\").agg({\"Invoice\" : \"count\"}).sort_values(by=\"Invoice\", ascending = False).head(7)"
   ]
  },
  {
   "cell_type": "code",
   "execution_count": null,
   "id": "df3c9ba2",
   "metadata": {},
   "outputs": [],
   "source": [
    "sns.catplot(data = UK.groupby(\"Day of Week\").agg({\"Invoice\" : \"count\"}), kind = \"violin\")"
   ]
  },
  {
   "cell_type": "code",
   "execution_count": null,
   "id": "1350dedd",
   "metadata": {},
   "outputs": [],
   "source": [
    "#What is the total revenue by the days of the week ? \n",
    "UK.groupby(\"Day of Week\").agg({\"Revenue\" : \"sum\"}).sort_values(by=\"Revenue\", ascending = False).head(7)"
   ]
  },
  {
   "cell_type": "code",
   "execution_count": null,
   "id": "e65f1466",
   "metadata": {},
   "outputs": [],
   "source": [
    "France.groupby(\"Day of Week\").agg({\"Revenue\" : \"sum\"}).sort_values(by=\"Revenue\", ascending = False).head(7)"
   ]
  },
  {
   "cell_type": "code",
   "execution_count": null,
   "id": "88cdc264",
   "metadata": {},
   "outputs": [],
   "source": [
    "Germany.groupby(\"Day of Week\").agg({\"Revenue\" : \"sum\"}).sort_values(by=\"Revenue\", ascending = False).head(7)"
   ]
  },
  {
   "cell_type": "code",
   "execution_count": null,
   "id": "e9b9fc4a",
   "metadata": {},
   "outputs": [],
   "source": [
    "Ireland.groupby(\"Day of Week\").agg({\"Revenue\" : \"sum\"}).sort_values(by=\"Revenue\", ascending = False).head(7)"
   ]
  },
  {
   "cell_type": "code",
   "execution_count": null,
   "id": "0084a6d4",
   "metadata": {},
   "outputs": [],
   "source": [
    "sns.catplot(data = UK.groupby(\"Day of Week\").agg({\"Revenue\" : \"sum\"}), kind = \"violin\")"
   ]
  },
  {
   "cell_type": "code",
   "execution_count": null,
   "id": "23504f26",
   "metadata": {},
   "outputs": [],
   "source": [
    "#The amount of purchases for each products by invoices and customers ? \n",
    "UK.groupby(\"StockCode\").agg({\"Invoice\" : \"count\", \"Customer ID\" : \"count\"}).sort_values(by = \"Invoice\", ascending = False).head()"
   ]
  },
  {
   "cell_type": "code",
   "execution_count": null,
   "id": "f4fb94eb",
   "metadata": {},
   "outputs": [],
   "source": [
    "France.groupby(\"StockCode\").agg({\"Invoice\" : \"count\", \"Customer ID\" : \"count\"}).sort_values(by = \"Invoice\", ascending = False).head()"
   ]
  },
  {
   "cell_type": "code",
   "execution_count": null,
   "id": "d73e76f7",
   "metadata": {},
   "outputs": [],
   "source": [
    "Germany.groupby(\"StockCode\").agg({\"Invoice\" : \"count\", \"Customer ID\" : \"count\"}).sort_values(by = \"Invoice\", ascending = False).head()"
   ]
  },
  {
   "cell_type": "code",
   "execution_count": null,
   "id": "5778c6ec",
   "metadata": {},
   "outputs": [],
   "source": [
    "Ireland.groupby(\"StockCode\").agg({\"Invoice\" : \"count\", \"Customer ID\" : \"count\"}).sort_values(by = \"Invoice\", ascending = False).head()"
   ]
  },
  {
   "cell_type": "code",
   "execution_count": null,
   "id": "a71db282",
   "metadata": {},
   "outputs": [],
   "source": [
    "#What are the average prices of the products ? \n",
    "UK.groupby(\"StockCode\").agg({\"Price\" : \"mean\"}).sort_values(by=\"Price\", ascending = False).head()"
   ]
  },
  {
   "cell_type": "code",
   "execution_count": null,
   "id": "19a26dcf",
   "metadata": {},
   "outputs": [],
   "source": [
    "France.groupby(\"StockCode\").agg({\"Price\" : \"mean\"}).sort_values(by=\"Price\", ascending = False).head()"
   ]
  },
  {
   "cell_type": "code",
   "execution_count": null,
   "id": "3fef5ddf",
   "metadata": {},
   "outputs": [],
   "source": [
    "Germany.groupby(\"StockCode\").agg({\"Price\" : \"mean\"}).sort_values(by=\"Price\", ascending = False).head()"
   ]
  },
  {
   "cell_type": "code",
   "execution_count": null,
   "id": "2026d884",
   "metadata": {},
   "outputs": [],
   "source": [
    "Ireland.groupby(\"StockCode\").agg({\"Price\" : \"mean\"}).sort_values(by=\"Price\", ascending = False).head()"
   ]
  },
  {
   "cell_type": "code",
   "execution_count": null,
   "id": "7187ddf8",
   "metadata": {},
   "outputs": [],
   "source": [
    "#What is the number of products are bought by each customer \n",
    "UK.groupby(\"Customer ID\").agg({\"StockCode\" : \"count\"}).sort_values(by = \"StockCode\", ascending = False).head()"
   ]
  },
  {
   "cell_type": "code",
   "execution_count": null,
   "id": "3d6fe6b2",
   "metadata": {},
   "outputs": [],
   "source": [
    "France.groupby(\"Customer ID\").agg({\"StockCode\" : \"count\"}).sort_values(by = \"StockCode\", ascending = False).head()"
   ]
  },
  {
   "cell_type": "code",
   "execution_count": null,
   "id": "2e7d2610",
   "metadata": {},
   "outputs": [],
   "source": [
    "Germany.groupby(\"Customer ID\").agg({\"StockCode\" : \"count\"}).sort_values(by = \"StockCode\", ascending = False).head()"
   ]
  },
  {
   "cell_type": "code",
   "execution_count": null,
   "id": "9a537932",
   "metadata": {},
   "outputs": [],
   "source": [
    "Ireland.groupby(\"Customer ID\").agg({\"StockCode\" : \"count\"}).sort_values(by = \"StockCode\", ascending = False).head()"
   ]
  },
  {
   "cell_type": "code",
   "execution_count": null,
   "id": "6e4cfb1b",
   "metadata": {},
   "outputs": [],
   "source": []
  }
 ],
 "metadata": {
  "kernelspec": {
   "display_name": "Python 3 (ipykernel)",
   "language": "python",
   "name": "python3"
  },
  "language_info": {
   "codemirror_mode": {
    "name": "ipython",
    "version": 3
   },
   "file_extension": ".py",
   "mimetype": "text/x-python",
   "name": "python",
   "nbconvert_exporter": "python",
   "pygments_lexer": "ipython3",
   "version": "3.9.12"
  },
  "vscode": {
   "interpreter": {
    "hash": "53d5ebfc3a67f43edb304e252c20e25f124bfdaf1a1364e832e60ff220c95f64"
   }
  }
 },
 "nbformat": 4,
 "nbformat_minor": 5
}
